{
 "cells": [
  {
   "cell_type": "code",
   "execution_count": 8,
   "metadata": {},
   "outputs": [],
   "source": [
    "# getting required libraries\n",
    "import anndata as ad\n",
    "import pandas as pd\n",
    "import numpy as np"
   ]
  },
  {
   "cell_type": "code",
   "execution_count": 40,
   "metadata": {},
   "outputs": [],
   "source": [
    "# loading the data\n",
    "import anndata as ad\n",
    "import pandas as pd\n",
    "\n",
    "conventional_cp = ad.read_h5ad(\"../perturb_seq_data/GSM6858447_KO_conventional.h5ad\")\n",
    "cell_pooled = ad.read_h5ad(\"../perturb_seq_data/GSM6858448_KO_cell_pooled.h5ad\")\n",
    "conventional_gp = ad.read_h5ad(\"../perturb_seq_data/GSM6858449_KD_conventional.h5ad\")\n",
    "guide_pooled = ad.read_h5ad(\"../perturb_seq_data/GSM6858450_KD_guide_pooled.h5ad\")\n"
   ]
  },
  {
   "cell_type": "code",
   "execution_count": 54,
   "metadata": {},
   "outputs": [],
   "source": [
    "guide_pooled = ad.read_h5ad(\"../perturb_seq_data/GSM6858450_KD_guide_pooled.h5ad\")\n",
    "gp_perts = pd.read_csv(\"./guide_pooled_perts.txt\", delim_whitespace=True)"
   ]
  },
  {
   "cell_type": "code",
   "execution_count": 55,
   "metadata": {},
   "outputs": [
    {
     "data": {
      "text/plain": [
       "Index(['AAACCCAAGTGGCAGT-1_1', 'AAACGAACAATGTCTG-1_1', 'AAACGAACACAATGTC-1_1',\n",
       "       'AAACGAAGTTTGGGTT-1_1', 'AAACGAATCCTCTCTT-1_1', 'AAACGCTCAAGTTCCA-1_1',\n",
       "       'AAACGCTCACAGACGA-1_1', 'AAACGCTCAGGTCAAG-1_1', 'AAACGCTGTAACCAGG-1_1',\n",
       "       'AAACGCTTCACGGTCG-1_1',\n",
       "       ...\n",
       "       'TTTGGAGAGCAGGGAG-1_2', 'TTTGGAGCAATTCACG-1_2', 'TTTGGAGCACGCTGAC-1_2',\n",
       "       'TTTGGAGTCAGACCCG-1_2', 'TTTGGTTAGCTAATGA-1_2', 'TTTGGTTCACCAGCCA-1_2',\n",
       "       'TTTGGTTCACCATTCC-1_2', 'TTTGGTTGTCCTCATC-1_2', 'TTTGGTTGTGGCCCAT-1_2',\n",
       "       'TTTGTTGAGCTAAATG-1_2'],\n",
       "      dtype='object', length=24192)"
      ]
     },
     "execution_count": 55,
     "metadata": {},
     "output_type": "execute_result"
    }
   ],
   "source": [
    "guide_pooled.obs.index"
   ]
  },
  {
   "cell_type": "code",
   "execution_count": 56,
   "metadata": {},
   "outputs": [
    {
     "data": {
      "text/plain": [
       "Index(['AAACCCAAGTGGCAGT-1_1', 'AAACGAACAATGTCTG-1_1', 'AAACGAACACAATGTC-1_1',\n",
       "       'AAACGAAGTTTGGGTT-1_1', 'AAACGAATCCTCTCTT-1_1', 'AAACGCTCAAGTTCCA-1_1',\n",
       "       'AAACGCTCACAGACGA-1_1', 'AAACGCTCAGGTCAAG-1_1', 'AAACGCTGTAACCAGG-1_1',\n",
       "       'AAACGCTTCACGGTCG-1_1', 'AAACGCTTCGGCCTTT-1_1', 'AAAGAACAGAGACAAG-1_1',\n",
       "       'AAAGAACCATATGAAG-1_1', 'AAAGGATAGACCGCCT-1_1', 'AAAGGATCATGACGGA-1_1',\n",
       "       'AAAGGGCAGGTCACTT-1_1', 'AAAGGTATCCATTTAC-1_1', 'AAAGTCCAGTAGCTCT-1_1',\n",
       "       'AAAGTCCCAGAGTAAT-1_1', 'AAAGTGACAACAGTGG-1_1', 'AAATGGATCCGTCACT-1_1',\n",
       "       'AACAAAGAGTCTTCCC-1_1', 'AACAAAGCAAAGCAAT-1_1', 'AACAACCGTAAGACCG-1_1',\n",
       "       'AACAAGACAACAAAGT-1_1', 'AACAAGATCCACAGCG-1_1', 'AACACACGTATCACCA-1_1',\n",
       "       'AACACACTCAGCGCAC-1_1', 'AACACACTCCATATGG-1_1', 'AACAGGGAGACAAGCC-1_1',\n",
       "       'AACAGGGGTCTGTCAA-1_1', 'AACAGGGTCCTAGAGT-1_1', 'AACAGGGTCCTATTGT-1_1',\n",
       "       'AACAGGGTCTCAGGCG-1_1', 'AACCAACAGGAGATAG-1_1', 'AACCAACGTAACATAG-1_1',\n",
       "       'AACCAACGTGCTTCAA-1_1', 'AACCAACTCAAGCCTA-1_1', 'AACCAACTCGCGAAGA-1_1',\n",
       "       'AACCAACTCGTGAGAG-1_1', 'AACCACAGTGCCCAGT-1_1', 'AACCACATCGACGAGA-1_1',\n",
       "       'AACCATGAGCGTTCCG-1_1', 'AACCATGGTCACTAGT-1_1', 'AACCATGGTTTCACTT-1_1',\n",
       "       'AACCATGTCACCTTAT-1_1', 'AACCCAAAGTCTGCAT-1_1', 'AACCCAACAATAGTCC-1_1',\n",
       "       'AACCCAAGTTTCGTGA-1_1', 'AACCTGAAGGTAAGTT-1_1', 'AACCTGACAGCGTTGC-1_1'],\n",
       "      dtype='object')"
      ]
     },
     "execution_count": 56,
     "metadata": {},
     "output_type": "execute_result"
    }
   ],
   "source": [
    "gp_perts.columns"
   ]
  },
  {
   "cell_type": "code",
   "execution_count": 18,
   "metadata": {},
   "outputs": [],
   "source": [
    "# creating subsets by columns (by genes)\n",
    "\n",
    "df = pd.DataFrame({'numbers': range(51)}) # create a simple dataframe of elements 0-50\n",
    "genes50_ccp = conventional_cp[conventional_cp.obs_names[:50],:].copy() # get the first 50 cells of conventional (for cell pooled comparison)\n",
    "genes50_cp = cell_pooled[cell_pooled.obs_names[:50],:].copy() # get the first 50 cells of cell_pooled\n",
    "genes50_cgp = conventional_gp[conventional_gp.obs_names[:50],:].copy() # get the first 50 cells of conventional (for guide pooled comparison)\n",
    "genes50_gp = guide_pooled[guide_pooled.obs_names[:50],:].copy() # get the first 50 cells of guide_pooled\n"
   ]
  },
  {
   "cell_type": "code",
   "execution_count": 60,
   "metadata": {},
   "outputs": [
    {
     "data": {
      "text/plain": [
       "Index(['AAACCCAAGTGGCAGT-1_1', 'AAACGAACAATGTCTG-1_1', 'AAACGAACACAATGTC-1_1',\n",
       "       'AAACGAAGTTTGGGTT-1_1', 'AAACGAATCCTCTCTT-1_1', 'AAACGCTCAAGTTCCA-1_1',\n",
       "       'AAACGCTCACAGACGA-1_1', 'AAACGCTCAGGTCAAG-1_1', 'AAACGCTGTAACCAGG-1_1',\n",
       "       'AAACGCTTCACGGTCG-1_1', 'AAACGCTTCGGCCTTT-1_1', 'AAAGAACAGAGACAAG-1_1',\n",
       "       'AAAGAACCATATGAAG-1_1', 'AAAGGATAGACCGCCT-1_1', 'AAAGGATCATGACGGA-1_1',\n",
       "       'AAAGGGCAGGTCACTT-1_1', 'AAAGGTATCCATTTAC-1_1', 'AAAGTCCAGTAGCTCT-1_1',\n",
       "       'AAAGTCCCAGAGTAAT-1_1', 'AAAGTGACAACAGTGG-1_1', 'AAATGGATCCGTCACT-1_1',\n",
       "       'AACAAAGAGTCTTCCC-1_1', 'AACAAAGCAAAGCAAT-1_1', 'AACAACCGTAAGACCG-1_1',\n",
       "       'AACAAGACAACAAAGT-1_1', 'AACAAGATCCACAGCG-1_1', 'AACACACGTATCACCA-1_1',\n",
       "       'AACACACTCAGCGCAC-1_1', 'AACACACTCCATATGG-1_1', 'AACAGGGAGACAAGCC-1_1',\n",
       "       'AACAGGGGTCTGTCAA-1_1', 'AACAGGGTCCTAGAGT-1_1', 'AACAGGGTCCTATTGT-1_1',\n",
       "       'AACAGGGTCTCAGGCG-1_1', 'AACCAACAGGAGATAG-1_1', 'AACCAACGTAACATAG-1_1',\n",
       "       'AACCAACGTGCTTCAA-1_1', 'AACCAACTCAAGCCTA-1_1', 'AACCAACTCGCGAAGA-1_1',\n",
       "       'AACCAACTCGTGAGAG-1_1', 'AACCACAGTGCCCAGT-1_1', 'AACCACATCGACGAGA-1_1',\n",
       "       'AACCATGAGCGTTCCG-1_1', 'AACCATGGTCACTAGT-1_1', 'AACCATGGTTTCACTT-1_1',\n",
       "       'AACCATGTCACCTTAT-1_1', 'AACCCAAAGTCTGCAT-1_1', 'AACCCAACAATAGTCC-1_1',\n",
       "       'AACCCAAGTTTCGTGA-1_1', 'AACCTGAAGGTAAGTT-1_1'],\n",
       "      dtype='object')"
      ]
     },
     "execution_count": 60,
     "metadata": {},
     "output_type": "execute_result"
    }
   ],
   "source": [
    "genes50_gp.obs.index"
   ]
  },
  {
   "cell_type": "code",
   "execution_count": 42,
   "metadata": {},
   "outputs": [
    {
     "name": "stderr",
     "output_type": "stream",
     "text": [
      "/tmp/ipykernel_3752/2691903031.py:9: FutureWarning: X.dtype being converted to np.float32 from float64. In the next version of anndata (0.9) conversion will not be automatic. Pass dtype explicitly to avoid this warning. Pass `AnnData(X, dtype=X.dtype, ...)` to get the future behavour.\n",
      "  subsets.append(ad.AnnData(X = dataset.X, var = dataset.var, obs = dataset.obs)) # get the actual values from sub_data, as writing sub_data directly leads to an error\n",
      "/tmp/ipykernel_3752/2691903031.py:9: FutureWarning: X.dtype being converted to np.float32 from float64. In the next version of anndata (0.9) conversion will not be automatic. Pass dtype explicitly to avoid this warning. Pass `AnnData(X, dtype=X.dtype, ...)` to get the future behavour.\n",
      "  subsets.append(ad.AnnData(X = dataset.X, var = dataset.var, obs = dataset.obs)) # get the actual values from sub_data, as writing sub_data directly leads to an error\n",
      "/tmp/ipykernel_3752/2691903031.py:9: FutureWarning: X.dtype being converted to np.float32 from float64. In the next version of anndata (0.9) conversion will not be automatic. Pass dtype explicitly to avoid this warning. Pass `AnnData(X, dtype=X.dtype, ...)` to get the future behavour.\n",
      "  subsets.append(ad.AnnData(X = dataset.X, var = dataset.var, obs = dataset.obs)) # get the actual values from sub_data, as writing sub_data directly leads to an error\n"
     ]
    }
   ],
   "source": [
    "# get the actual data to form the columns subsets\n",
    "\n",
    "datasets = [genes50_ccp, genes50_cp, genes50_cgp, genes50_gp]\n",
    "\n",
    "subsets =[]\n",
    "i = 0\n",
    "\n",
    "for dataset in datasets:\n",
    "    subsets.append(ad.AnnData(X = dataset.X, var = dataset.var, obs = dataset.obs)) # get the actual values from sub_data, as writing sub_data directly leads to an error\n",
    "    if '_index' in subsets[i].var.columns: # change _index as it's a reserved name for dataframe columns.\n",
    "        subsets[i].var.rename(columns={'_index': 'ind'}, inplace=True)\n",
    "    i += 1\n",
    "    \n",
    "# extract the subsets of each Perturb-seq data\n",
    "genes50_conventional_cp = subsets[0]\n",
    "genes50_cell_pooled = subsets[1]\n",
    "genes50_conventional_gp = subsets[2]\n",
    "genes50_guide_pooled = subsets[3]\n",
    "\n",
    "    \n"
   ]
  },
  {
   "cell_type": "code",
   "execution_count": 61,
   "metadata": {},
   "outputs": [
    {
     "data": {
      "text/plain": [
       "Index(['AAACCCAAGTGGCAGT-1_1', 'AAACGAACAATGTCTG-1_1', 'AAACGAACACAATGTC-1_1',\n",
       "       'AAACGAAGTTTGGGTT-1_1', 'AAACGAATCCTCTCTT-1_1', 'AAACGCTCAAGTTCCA-1_1',\n",
       "       'AAACGCTCACAGACGA-1_1', 'AAACGCTCAGGTCAAG-1_1', 'AAACGCTGTAACCAGG-1_1',\n",
       "       'AAACGCTTCACGGTCG-1_1', 'AAACGCTTCGGCCTTT-1_1', 'AAAGAACAGAGACAAG-1_1',\n",
       "       'AAAGAACCATATGAAG-1_1', 'AAAGGATAGACCGCCT-1_1', 'AAAGGATCATGACGGA-1_1',\n",
       "       'AAAGGGCAGGTCACTT-1_1', 'AAAGGTATCCATTTAC-1_1', 'AAAGTCCAGTAGCTCT-1_1',\n",
       "       'AAAGTCCCAGAGTAAT-1_1', 'AAAGTGACAACAGTGG-1_1', 'AAATGGATCCGTCACT-1_1',\n",
       "       'AACAAAGAGTCTTCCC-1_1', 'AACAAAGCAAAGCAAT-1_1', 'AACAACCGTAAGACCG-1_1',\n",
       "       'AACAAGACAACAAAGT-1_1', 'AACAAGATCCACAGCG-1_1', 'AACACACGTATCACCA-1_1',\n",
       "       'AACACACTCAGCGCAC-1_1', 'AACACACTCCATATGG-1_1', 'AACAGGGAGACAAGCC-1_1',\n",
       "       'AACAGGGGTCTGTCAA-1_1', 'AACAGGGTCCTAGAGT-1_1', 'AACAGGGTCCTATTGT-1_1',\n",
       "       'AACAGGGTCTCAGGCG-1_1', 'AACCAACAGGAGATAG-1_1', 'AACCAACGTAACATAG-1_1',\n",
       "       'AACCAACGTGCTTCAA-1_1', 'AACCAACTCAAGCCTA-1_1', 'AACCAACTCGCGAAGA-1_1',\n",
       "       'AACCAACTCGTGAGAG-1_1', 'AACCACAGTGCCCAGT-1_1', 'AACCACATCGACGAGA-1_1',\n",
       "       'AACCATGAGCGTTCCG-1_1', 'AACCATGGTCACTAGT-1_1', 'AACCATGGTTTCACTT-1_1',\n",
       "       'AACCATGTCACCTTAT-1_1', 'AACCCAAAGTCTGCAT-1_1', 'AACCCAACAATAGTCC-1_1',\n",
       "       'AACCCAAGTTTCGTGA-1_1', 'AACCTGAAGGTAAGTT-1_1'],\n",
       "      dtype='object')"
      ]
     },
     "execution_count": 61,
     "metadata": {},
     "output_type": "execute_result"
    }
   ],
   "source": [
    "genes50_guide_pooled.obs.index"
   ]
  },
  {
   "cell_type": "code",
   "execution_count": 43,
   "metadata": {},
   "outputs": [],
   "source": [
    "# write the subset column data in other files\n",
    "\n",
    "genes50_conventional_cp.write_h5ad(\"./conventional_cp_genes50.h5ad\") \n",
    "genes50_cell_pooled.write_h5ad(\"./cell_pooled_genes50.h5ad\") \n",
    "genes50_conventional_gp.write_h5ad(\"./conventional_gp_genes50.h5ad\") \n",
    "genes50_guide_pooled.write_h5ad(\"./guide_pooled_genes50.h5ad\") "
   ]
  },
  {
   "cell_type": "code",
   "execution_count": 63,
   "metadata": {},
   "outputs": [],
   "source": [
    "# create a function to get the perturbations for the first 50 genes\n",
    "def get_perts(file_path, output_file):\n",
    "    input_file = file_path # Extract the file name from the file path\n",
    "  \n",
    "    with open(input_file, 'r') as original_file: # open the original file for reading\n",
    "        header = original_file.readline().strip().split() # read the first line to get the header\n",
    "\n",
    "        # read and process the remaining lines\n",
    "        subset_lines = []\n",
    "        for line in original_file:\n",
    "            columns = line.strip().split() # split the line into columns\n",
    "            subset_line = '\\t'.join(columns[:50]) + '\\n' # select the first 50 columns\n",
    "            subset_lines.append(subset_line)\n",
    "\n",
    "    # Write the subset to a new file\n",
    "    with open(output_file, 'w') as new_file:\n",
    "        new_file.write('\\t'.join(header[:50]) + '\\n') # Write the header\n",
    "        new_file.writelines(subset_lines) # write the subset lines\n"
   ]
  },
  {
   "cell_type": "code",
   "execution_count": 65,
   "metadata": {},
   "outputs": [
    {
     "data": {
      "text/plain": [
       "Index(['AAACCCAAGTGGCAGT-1_1', 'AAACGAACAATGTCTG-1_1', 'AAACGAACACAATGTC-1_1',\n",
       "       'AAACGAAGTTTGGGTT-1_1', 'AAACGAATCCTCTCTT-1_1', 'AAACGCTCAAGTTCCA-1_1',\n",
       "       'AAACGCTCACAGACGA-1_1', 'AAACGCTCAGGTCAAG-1_1', 'AAACGCTGTAACCAGG-1_1',\n",
       "       'AAACGCTTCACGGTCG-1_1', 'AAACGCTTCGGCCTTT-1_1', 'AAAGAACAGAGACAAG-1_1',\n",
       "       'AAAGAACCATATGAAG-1_1', 'AAAGGATAGACCGCCT-1_1', 'AAAGGATCATGACGGA-1_1',\n",
       "       'AAAGGGCAGGTCACTT-1_1', 'AAAGGTATCCATTTAC-1_1', 'AAAGTCCAGTAGCTCT-1_1',\n",
       "       'AAAGTCCCAGAGTAAT-1_1', 'AAAGTGACAACAGTGG-1_1', 'AAATGGATCCGTCACT-1_1',\n",
       "       'AACAAAGAGTCTTCCC-1_1', 'AACAAAGCAAAGCAAT-1_1', 'AACAACCGTAAGACCG-1_1',\n",
       "       'AACAAGACAACAAAGT-1_1', 'AACAAGATCCACAGCG-1_1', 'AACACACGTATCACCA-1_1',\n",
       "       'AACACACTCAGCGCAC-1_1', 'AACACACTCCATATGG-1_1', 'AACAGGGAGACAAGCC-1_1',\n",
       "       'AACAGGGGTCTGTCAA-1_1', 'AACAGGGTCCTAGAGT-1_1', 'AACAGGGTCCTATTGT-1_1',\n",
       "       'AACAGGGTCTCAGGCG-1_1', 'AACCAACAGGAGATAG-1_1', 'AACCAACGTAACATAG-1_1',\n",
       "       'AACCAACGTGCTTCAA-1_1', 'AACCAACTCAAGCCTA-1_1', 'AACCAACTCGCGAAGA-1_1',\n",
       "       'AACCAACTCGTGAGAG-1_1', 'AACCACAGTGCCCAGT-1_1', 'AACCACATCGACGAGA-1_1',\n",
       "       'AACCATGAGCGTTCCG-1_1', 'AACCATGGTCACTAGT-1_1', 'AACCATGGTTTCACTT-1_1',\n",
       "       'AACCATGTCACCTTAT-1_1', 'AACCCAAAGTCTGCAT-1_1', 'AACCCAACAATAGTCC-1_1',\n",
       "       'AACCCAAGTTTCGTGA-1_1', 'AACCTGAAGGTAAGTT-1_1', 'AACCTGACAGCGTTGC-1_1'],\n",
       "      dtype='object')"
      ]
     },
     "execution_count": 65,
     "metadata": {},
     "output_type": "execute_result"
    }
   ],
   "source": [
    "gp_perts.columns\n"
   ]
  },
  {
   "cell_type": "code",
   "execution_count": 64,
   "metadata": {},
   "outputs": [],
   "source": [
    "# get the perturbations for the first 50 genes\n",
    "get_perts(\"../perturb_seq_data/GSM6858447_KO_conventional_perturbations.txt\", \"conventional_cp_perts.txt\")\n",
    "get_perts(\"../perturb_seq_data/GSM6858448_KO_cell_pooled_perturbations.txt\", \"cell_pooled_perts.txt\")\n",
    "get_perts(\"../perturb_seq_data/GSM6858449_KD_conventional_perturbations.txt\", \"conventional_gp_perts.txt\")\n",
    "get_perts(\"../perturb_seq_data/GSM6858450_KD_guide_pooled_perturbations.txt\", \"guide_pooled_perts.txt\")"
   ]
  },
  {
   "cell_type": "code",
   "execution_count": 68,
   "metadata": {},
   "outputs": [
    {
     "data": {
      "text/plain": [
       "Index(['AAACCCAAGTGGCAGT-1_1', 'AAACGAACAATGTCTG-1_1', 'AAACGAACACAATGTC-1_1',\n",
       "       'AAACGAAGTTTGGGTT-1_1', 'AAACGAATCCTCTCTT-1_1', 'AAACGCTCAAGTTCCA-1_1',\n",
       "       'AAACGCTCACAGACGA-1_1', 'AAACGCTCAGGTCAAG-1_1', 'AAACGCTGTAACCAGG-1_1',\n",
       "       'AAACGCTTCACGGTCG-1_1', 'AAACGCTTCGGCCTTT-1_1', 'AAAGAACAGAGACAAG-1_1',\n",
       "       'AAAGAACCATATGAAG-1_1', 'AAAGGATAGACCGCCT-1_1', 'AAAGGATCATGACGGA-1_1',\n",
       "       'AAAGGGCAGGTCACTT-1_1', 'AAAGGTATCCATTTAC-1_1', 'AAAGTCCAGTAGCTCT-1_1',\n",
       "       'AAAGTCCCAGAGTAAT-1_1', 'AAAGTGACAACAGTGG-1_1', 'AAATGGATCCGTCACT-1_1',\n",
       "       'AACAAAGAGTCTTCCC-1_1', 'AACAAAGCAAAGCAAT-1_1', 'AACAACCGTAAGACCG-1_1',\n",
       "       'AACAAGACAACAAAGT-1_1', 'AACAAGATCCACAGCG-1_1', 'AACACACGTATCACCA-1_1',\n",
       "       'AACACACTCAGCGCAC-1_1', 'AACACACTCCATATGG-1_1', 'AACAGGGAGACAAGCC-1_1',\n",
       "       'AACAGGGGTCTGTCAA-1_1', 'AACAGGGTCCTAGAGT-1_1', 'AACAGGGTCCTATTGT-1_1',\n",
       "       'AACAGGGTCTCAGGCG-1_1', 'AACCAACAGGAGATAG-1_1', 'AACCAACGTAACATAG-1_1',\n",
       "       'AACCAACGTGCTTCAA-1_1', 'AACCAACTCAAGCCTA-1_1', 'AACCAACTCGCGAAGA-1_1',\n",
       "       'AACCAACTCGTGAGAG-1_1', 'AACCACAGTGCCCAGT-1_1', 'AACCACATCGACGAGA-1_1',\n",
       "       'AACCATGAGCGTTCCG-1_1', 'AACCATGGTCACTAGT-1_1', 'AACCATGGTTTCACTT-1_1',\n",
       "       'AACCATGTCACCTTAT-1_1', 'AACCCAAAGTCTGCAT-1_1', 'AACCCAACAATAGTCC-1_1',\n",
       "       'AACCCAAGTTTCGTGA-1_1', 'AACCTGAAGGTAAGTT-1_1'],\n",
       "      dtype='object')"
      ]
     },
     "execution_count": 68,
     "metadata": {},
     "output_type": "execute_result"
    }
   ],
   "source": [
    "# check the length of the perturbation\n",
    "p_mat_pd = pd.read_csv(\"./guide_pooled_perts.txt\", delim_whitespace=True)\n",
    "p_mat_pd.columns"
   ]
  },
  {
   "cell_type": "code",
   "execution_count": 67,
   "metadata": {},
   "outputs": [
    {
     "data": {
      "text/plain": [
       "Index(['AAACCCAAGTGGCAGT-1_1', 'AAACGAACAATGTCTG-1_1', 'AAACGAACACAATGTC-1_1',\n",
       "       'AAACGAAGTTTGGGTT-1_1', 'AAACGAATCCTCTCTT-1_1', 'AAACGCTCAAGTTCCA-1_1',\n",
       "       'AAACGCTCACAGACGA-1_1', 'AAACGCTCAGGTCAAG-1_1', 'AAACGCTGTAACCAGG-1_1',\n",
       "       'AAACGCTTCACGGTCG-1_1', 'AAACGCTTCGGCCTTT-1_1', 'AAAGAACAGAGACAAG-1_1',\n",
       "       'AAAGAACCATATGAAG-1_1', 'AAAGGATAGACCGCCT-1_1', 'AAAGGATCATGACGGA-1_1',\n",
       "       'AAAGGGCAGGTCACTT-1_1', 'AAAGGTATCCATTTAC-1_1', 'AAAGTCCAGTAGCTCT-1_1',\n",
       "       'AAAGTCCCAGAGTAAT-1_1', 'AAAGTGACAACAGTGG-1_1', 'AAATGGATCCGTCACT-1_1',\n",
       "       'AACAAAGAGTCTTCCC-1_1', 'AACAAAGCAAAGCAAT-1_1', 'AACAACCGTAAGACCG-1_1',\n",
       "       'AACAAGACAACAAAGT-1_1', 'AACAAGATCCACAGCG-1_1', 'AACACACGTATCACCA-1_1',\n",
       "       'AACACACTCAGCGCAC-1_1', 'AACACACTCCATATGG-1_1', 'AACAGGGAGACAAGCC-1_1',\n",
       "       'AACAGGGGTCTGTCAA-1_1', 'AACAGGGTCCTAGAGT-1_1', 'AACAGGGTCCTATTGT-1_1',\n",
       "       'AACAGGGTCTCAGGCG-1_1', 'AACCAACAGGAGATAG-1_1', 'AACCAACGTAACATAG-1_1',\n",
       "       'AACCAACGTGCTTCAA-1_1', 'AACCAACTCAAGCCTA-1_1', 'AACCAACTCGCGAAGA-1_1',\n",
       "       'AACCAACTCGTGAGAG-1_1', 'AACCACAGTGCCCAGT-1_1', 'AACCACATCGACGAGA-1_1',\n",
       "       'AACCATGAGCGTTCCG-1_1', 'AACCATGGTCACTAGT-1_1', 'AACCATGGTTTCACTT-1_1',\n",
       "       'AACCATGTCACCTTAT-1_1', 'AACCCAAAGTCTGCAT-1_1', 'AACCCAACAATAGTCC-1_1',\n",
       "       'AACCCAAGTTTCGTGA-1_1', 'AACCTGAAGGTAAGTT-1_1'],\n",
       "      dtype='object')"
      ]
     },
     "execution_count": 67,
     "metadata": {},
     "output_type": "execute_result"
    }
   ],
   "source": [
    "genes50 = ad.read_h5ad(\"./guide_pooled_genes50.h5ad\")\n",
    "genes50.obs.index\n"
   ]
  },
  {
   "cell_type": "code",
   "execution_count": 73,
   "metadata": {},
   "outputs": [],
   "source": [
    "# ensure the consistency of cell names between the expression matrix and the perturbation matrix\n",
    "import anndata as ad\n",
    "import pandas as pd\n",
    "dat = ad.read_h5ad(\"./guide_pooled_genes50.h5ad\") # load the data\n",
    "perts = pd.read_csv(\"./guide_pooled_perts.txt\", delim_whitespace=True)\n",
    "dat.obs.index\n",
    "perts.columns\n",
    "if not dat.obs.index.equals(perts.columns): # ensure the consistency of cell names between the expression matrix and the perturbation matrix\n",
    "        raise ValueError('Cell names in perturbation matrix do not match cell names in expression matrix')"
   ]
  },
  {
   "cell_type": "code",
   "execution_count": 70,
   "metadata": {},
   "outputs": [
    {
     "data": {
      "text/plain": [
       "Index(['AAACGAACAATGTCTG-1_1', 'AAACGAACACAATGTC-1_1', 'AAACGAAGTTTGGGTT-1_1',\n",
       "       'AAACGAATCCTCTCTT-1_1', 'AAACGCTCAAGTTCCA-1_1', 'AAACGCTCACAGACGA-1_1',\n",
       "       'AAACGCTCAGGTCAAG-1_1', 'AAACGCTGTAACCAGG-1_1', 'AAACGCTTCACGGTCG-1_1',\n",
       "       'AAACGCTTCGGCCTTT-1_1', 'AAAGAACAGAGACAAG-1_1', 'AAAGAACCATATGAAG-1_1',\n",
       "       'AAAGGATAGACCGCCT-1_1', 'AAAGGATCATGACGGA-1_1', 'AAAGGGCAGGTCACTT-1_1',\n",
       "       'AAAGGTATCCATTTAC-1_1', 'AAAGTCCAGTAGCTCT-1_1', 'AAAGTCCCAGAGTAAT-1_1',\n",
       "       'AAAGTGACAACAGTGG-1_1', 'AAATGGATCCGTCACT-1_1', 'AACAAAGAGTCTTCCC-1_1',\n",
       "       'AACAAAGCAAAGCAAT-1_1', 'AACAACCGTAAGACCG-1_1', 'AACAAGACAACAAAGT-1_1',\n",
       "       'AACAAGATCCACAGCG-1_1', 'AACACACGTATCACCA-1_1', 'AACACACTCAGCGCAC-1_1',\n",
       "       'AACACACTCCATATGG-1_1', 'AACAGGGAGACAAGCC-1_1', 'AACAGGGGTCTGTCAA-1_1',\n",
       "       'AACAGGGTCCTAGAGT-1_1', 'AACAGGGTCCTATTGT-1_1', 'AACAGGGTCTCAGGCG-1_1',\n",
       "       'AACCAACAGGAGATAG-1_1', 'AACCAACGTAACATAG-1_1', 'AACCAACGTGCTTCAA-1_1',\n",
       "       'AACCAACTCAAGCCTA-1_1', 'AACCAACTCGCGAAGA-1_1', 'AACCAACTCGTGAGAG-1_1',\n",
       "       'AACCACAGTGCCCAGT-1_1', 'AACCACATCGACGAGA-1_1', 'AACCATGAGCGTTCCG-1_1',\n",
       "       'AACCATGGTCACTAGT-1_1', 'AACCATGGTTTCACTT-1_1', 'AACCATGTCACCTTAT-1_1',\n",
       "       'AACCCAAAGTCTGCAT-1_1', 'AACCCAACAATAGTCC-1_1', 'AACCCAAGTTTCGTGA-1_1',\n",
       "       'AACCTGAAGGTAAGTT-1_1'],\n",
       "      dtype='object')"
      ]
     },
     "execution_count": 70,
     "metadata": {},
     "output_type": "execute_result"
    }
   ],
   "source": [
    "perts.columns\n"
   ]
  },
  {
   "cell_type": "code",
   "execution_count": 71,
   "metadata": {},
   "outputs": [
    {
     "data": {
      "text/plain": [
       "Index(['AAACCCAAGTGGCAGT-1_1', 'AAACGAACAATGTCTG-1_1', 'AAACGAACACAATGTC-1_1',\n",
       "       'AAACGAAGTTTGGGTT-1_1', 'AAACGAATCCTCTCTT-1_1', 'AAACGCTCAAGTTCCA-1_1',\n",
       "       'AAACGCTCACAGACGA-1_1', 'AAACGCTCAGGTCAAG-1_1', 'AAACGCTGTAACCAGG-1_1',\n",
       "       'AAACGCTTCACGGTCG-1_1', 'AAACGCTTCGGCCTTT-1_1', 'AAAGAACAGAGACAAG-1_1',\n",
       "       'AAAGAACCATATGAAG-1_1', 'AAAGGATAGACCGCCT-1_1', 'AAAGGATCATGACGGA-1_1',\n",
       "       'AAAGGGCAGGTCACTT-1_1', 'AAAGGTATCCATTTAC-1_1', 'AAAGTCCAGTAGCTCT-1_1',\n",
       "       'AAAGTCCCAGAGTAAT-1_1', 'AAAGTGACAACAGTGG-1_1', 'AAATGGATCCGTCACT-1_1',\n",
       "       'AACAAAGAGTCTTCCC-1_1', 'AACAAAGCAAAGCAAT-1_1', 'AACAACCGTAAGACCG-1_1',\n",
       "       'AACAAGACAACAAAGT-1_1', 'AACAAGATCCACAGCG-1_1', 'AACACACGTATCACCA-1_1',\n",
       "       'AACACACTCAGCGCAC-1_1', 'AACACACTCCATATGG-1_1', 'AACAGGGAGACAAGCC-1_1',\n",
       "       'AACAGGGGTCTGTCAA-1_1', 'AACAGGGTCCTAGAGT-1_1', 'AACAGGGTCCTATTGT-1_1',\n",
       "       'AACAGGGTCTCAGGCG-1_1', 'AACCAACAGGAGATAG-1_1', 'AACCAACGTAACATAG-1_1',\n",
       "       'AACCAACGTGCTTCAA-1_1', 'AACCAACTCAAGCCTA-1_1', 'AACCAACTCGCGAAGA-1_1',\n",
       "       'AACCAACTCGTGAGAG-1_1', 'AACCACAGTGCCCAGT-1_1', 'AACCACATCGACGAGA-1_1',\n",
       "       'AACCATGAGCGTTCCG-1_1', 'AACCATGGTCACTAGT-1_1', 'AACCATGGTTTCACTT-1_1',\n",
       "       'AACCATGTCACCTTAT-1_1', 'AACCCAAAGTCTGCAT-1_1', 'AACCCAACAATAGTCC-1_1',\n",
       "       'AACCCAAGTTTCGTGA-1_1', 'AACCTGAAGGTAAGTT-1_1'],\n",
       "      dtype='object')"
      ]
     },
     "execution_count": 71,
     "metadata": {},
     "output_type": "execute_result"
    }
   ],
   "source": [
    "dat.obs.index\n"
   ]
  },
  {
   "cell_type": "code",
   "execution_count": 83,
   "metadata": {},
   "outputs": [],
   "source": [
    "# ensure that there's no division by 0 and the correct index is found\n",
    "import numpy as np\n",
    "n_guides = perts.values.sum(axis = 0)\n",
    "nt_names = \"non-targeting\".split(',')\n",
    "ctrl_idx = np.logical_and(n_guides == 1, perts.loc[nt_names].sum(axis = 0).values != 0)"
   ]
  },
  {
   "cell_type": "code",
   "execution_count": 77,
   "metadata": {},
   "outputs": [
    {
     "data": {
      "text/plain": [
       "Index(['A4GALT', 'AAGAB', 'ABCF1', 'ACP5', 'ACTL6A', 'ACVR1B', 'ADCY4', 'ADO',\n",
       "       'AGPAT1', 'AHR',\n",
       "       ...\n",
       "       'ZEB2', 'ZEB2-AS1', 'ZFP36', 'ZMAT5', 'ZMIZ1', 'ZMIZ1-AS1', 'ZNF384',\n",
       "       'ZNF703', 'ZNF79', 'ZNRD1'],\n",
       "      dtype='object', name='AAACCCAAGACCGCCT-1', length=600)"
      ]
     },
     "execution_count": 77,
     "metadata": {},
     "output_type": "execute_result"
    }
   ],
   "source": [
    "p_mat_pd = pd.read_csv(\"./conventional_perts.txt\", index_col = 0, delim_whitespace=True) # EDIT: I removed this index_col = 0\n",
    "p_mat_pd.index"
   ]
  },
  {
   "cell_type": "code",
   "execution_count": 7,
   "metadata": {},
   "outputs": [
    {
     "name": "stdout",
     "output_type": "stream",
     "text": [
      "[1 2 1 2 4 1 1 3 1 1 2 1 1 1 1 2 2 1 2 2 1 2 1 2 1 2 3 1 2 1 2 3 3 2 2 1 2\n",
      " 1 2 2 3 5 3 2 1 2 1 2 3 2]\n",
      "AAACCCAAGACCGCCT-1    False\n",
      "AAACCCAAGAGCGACT-1    False\n",
      "AAACCCAAGCATTGAA-1    False\n",
      "AAACCCAAGCTAATCC-1    False\n",
      "AAACCCAAGCTCTGTA-1    False\n",
      "AAACCCAAGTCGGCCT-1    False\n",
      "AAACCCAAGTGATGGC-1    False\n",
      "AAACCCAAGTGCGTCC-1    False\n",
      "AAACCCAAGTTGCGAG-1    False\n",
      "AAACCCACAAGAATAC-1    False\n",
      "AAACCCACAAGACTGG-1    False\n",
      "AAACCCACACATTCGA-1    False\n",
      "AAACCCACACCGTCGA-1    False\n",
      "AAACCCACACGCACCA-1    False\n",
      "AAACCCACACTTGGGC-1    False\n",
      "AAACCCACAGACGGAT-1    False\n",
      "AAACCCACAGAGATGC-1    False\n",
      "AAACCCACAGGTCTCG-1    False\n",
      "AAACCCACATTGTCGA-1    False\n",
      "AAACCCAGTAGGACCA-1    False\n",
      "AAACCCAGTCGCTCGA-1    False\n",
      "AAACCCAGTGATGAAT-1    False\n",
      "AAACCCAGTGTGAATA-1    False\n",
      "AAACCCAGTTTAAGGA-1    False\n",
      "AAACCCAGTTTGAAAG-1    False\n",
      "AAACCCATCAACTACG-1    False\n",
      "AAACCCATCAGCAGAG-1    False\n",
      "AAACCCATCATTGCTT-1    False\n",
      "AAACCCATCCATAGAC-1    False\n",
      "AAACCCATCCCGAGGT-1    False\n",
      "AAACCCATCCGATTAG-1    False\n",
      "AAACCCATCCTGGCTT-1    False\n",
      "AAACCCATCGGTTGTA-1    False\n",
      "AAACCCATCTCAGGCG-1    False\n",
      "AAACCCATCTCCCAAC-1    False\n",
      "AAACCCATCTCTGACC-1    False\n",
      "AAACGAAAGAAGAACG-1    False\n",
      "AAACGAAAGACTTAAG-1    False\n",
      "AAACGAAAGAGAGTGA-1    False\n",
      "AAACGAAAGCCTCAAT-1    False\n",
      "AAACGAAAGCCTGGAA-1    False\n",
      "AAACGAAAGCGATTCT-1    False\n",
      "AAACGAAAGCGCAATG-1    False\n",
      "AAACGAAAGCTCCATA-1    False\n",
      "AAACGAAAGGCTGGAT-1    False\n",
      "AAACGAAAGGTAAGTT-1    False\n",
      "AAACGAAAGGTTCTTG-1    False\n",
      "AAACGAAAGTAGCTCT-1    False\n",
      "AAACGAAAGTGCAACG-1    False\n",
      "AAACGAAAGTGCGACA-1    False\n",
      "dtype: bool\n"
     ]
    }
   ],
   "source": [
    "# checking why control isn't accounted for\n",
    "p_mat_pd = pd.read_csv(\"./cell_pooled_perts.txt\", index_col = 0, delim_whitespace=True) # EDIT: I removed this index_col = 0\n",
    "p_mat_pd.index\n",
    "n_guides = p_mat_pd.values.sum(axis = 0)\n",
    "print(n_guides)\n",
    "nt_names = 'non-targeting'\n",
    "p_mat_pd.loc[nt_names]\n",
    "ctrl_idx = np.logical_and(n_guides == 1, p_mat_pd.loc[nt_names].sum(axis = 0) != 0)\n",
    "print(ctrl_idx)"
   ]
  },
  {
   "cell_type": "code",
   "execution_count": 8,
   "metadata": {},
   "outputs": [
    {
     "name": "stdout",
     "output_type": "stream",
     "text": [
      "['non-targeting']\n"
     ]
    }
   ],
   "source": [
    "print(nt_names)"
   ]
  },
  {
   "cell_type": "code",
   "execution_count": 4,
   "metadata": {},
   "outputs": [
    {
     "name": "stderr",
     "output_type": "stream",
     "text": [
      "/tmp/ipykernel_3789/4039160073.py:13: FutureWarning: X.dtype being converted to np.float32 from int64. In the next version of anndata (0.9) conversion will not be automatic. Pass dtype explicitly to avoid this warning. Pass `AnnData(X, dtype=X.dtype, ...)` to get the future behavour.\n",
      "  dat = sc.AnnData(data_matrix)\n"
     ]
    }
   ],
   "source": [
    "# minimal reproducible example\n",
    "import scanpy as sc\n",
    "import numpy as np\n",
    "\n",
    "data_matrix = np.array([\n",
    "    [1, 2, 0, 0],\n",
    "    [3, 4, 0, 0],\n",
    "    [5, 6, 0, 0],\n",
    "    [7, 8, 0, 0],\n",
    "    [9, 10, 0, 0]\n",
    "])\n",
    "\n",
    "dat = sc.AnnData(data_matrix)\n",
    "dat = dat[:,np.squeeze(np.array(dat.X.sum(axis = 0))) != 0]\n"
   ]
  }
 ],
 "metadata": {
  "kernelspec": {
   "display_name": "FR-Perturb",
   "language": "python",
   "name": "python3"
  },
  "language_info": {
   "codemirror_mode": {
    "name": "ipython",
    "version": 3
   },
   "file_extension": ".py",
   "mimetype": "text/x-python",
   "name": "python",
   "nbconvert_exporter": "python",
   "pygments_lexer": "ipython3",
   "version": "3.8.13"
  }
 },
 "nbformat": 4,
 "nbformat_minor": 2
}
